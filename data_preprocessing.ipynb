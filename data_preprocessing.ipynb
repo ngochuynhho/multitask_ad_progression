{
 "cells": [
  {
   "cell_type": "markdown",
   "id": "2c414b5c-4df5-4dbb-a458-db3faafd05ca",
   "metadata": {},
   "source": [
    "## Load package"
   ]
  },
  {
   "cell_type": "code",
   "execution_count": null,
   "id": "c8cbac81-8c87-4a59-889c-2db54f4a3173",
   "metadata": {},
   "outputs": [],
   "source": [
    "import os\n",
    "import pickle\n",
    "import pandas as pd\n",
    "import numpy as np\n",
    "\n",
    "from sklearn.experimental import enable_iterative_imputer\n",
    "from sklearn.impute import SimpleImputer, IterativeImputer\n",
    "from sklearn.model_selection import train_test_split\n",
    "from sklearn.preprocessing import StandardScaler\n",
    "\n",
    "from sksurv.metrics import concordance_index_censored"
   ]
  },
  {
   "cell_type": "markdown",
   "id": "cf6c0bdb-a9e4-470e-b194-c17d4548f498",
   "metadata": {},
   "source": [
    "## Load data"
   ]
  },
  {
   "cell_type": "code",
   "execution_count": null,
   "id": "f03fd4b1-15f4-4f7c-8285-872d7f03a875",
   "metadata": {},
   "outputs": [],
   "source": [
    "datapath = \"data\"\n",
    "df       = pd.read_csv(f\"{datapath}/MCI_survival.csv\")\n",
    "df_rad   = pd.read_csv(f\"{datapath}/MCI_radiomics.csv\")"
   ]
  },
  {
   "cell_type": "markdown",
   "id": "d00ee714-62d8-4b4b-b32a-1bc07238f1aa",
   "metadata": {},
   "source": [
    "## Split data"
   ]
  },
  {
   "cell_type": "code",
   "execution_count": null,
   "id": "98559863-5d88-452f-b3dd-d3408a1d8267",
   "metadata": {},
   "outputs": [],
   "source": [
    "with open(f\"{datapath}/train.txt\", \"rb\") as fp:\n",
    "    train_ids = pickle.load(fp)\n",
    "with open(f\"{datapath}/test.txt\", \"rb\") as fp:\n",
    "    test_ids = pickle.load(fp)"
   ]
  },
  {
   "cell_type": "code",
   "execution_count": null,
   "id": "e7b41c98-bc4d-49cb-aa2e-214af780196d",
   "metadata": {},
   "outputs": [],
   "source": [
    "train_ids, valid_ids = train_test_split(train_ids, test_size=0.2, random_state=333)"
   ]
  },
  {
   "cell_type": "code",
   "execution_count": null,
   "id": "ff0b3a09-d6b6-4ec5-bd04-5ac4708be982",
   "metadata": {},
   "outputs": [],
   "source": [
    "df.set_index(['RID'], inplace=True)\n",
    "df_train = df.query('RID in @train_ids')\n",
    "df_valid = df.query('RID in @valid_ids')\n",
    "df_test  = df.query('RID in @test_ids')"
   ]
  },
  {
   "cell_type": "code",
   "execution_count": null,
   "id": "fcafd264-bc69-4bce-84dd-7dfcc19e6272",
   "metadata": {},
   "outputs": [],
   "source": [
    "df_rad.set_index(['RID'], inplace=True)"
   ]
  },
  {
   "cell_type": "markdown",
   "id": "bcb2ba55-a3f4-48f7-a074-f4b94950423e",
   "metadata": {},
   "source": [
    "#### Select radiomic features"
   ]
  },
  {
   "cell_type": "code",
   "execution_count": null,
   "id": "690d8c11-212b-40a9-a3be-8b8c206204fa",
   "metadata": {},
   "outputs": [],
   "source": [
    "radiomic_tissue = [\"GM\"] #GM, WM, CSF\n",
    "radiomic_type   = [\"shape\"] # shape, texture"
   ]
  },
  {
   "cell_type": "code",
   "execution_count": null,
   "id": "2619d647-253e-4bc3-9664-712bcec3bb1c",
   "metadata": {},
   "outputs": [],
   "source": [
    "rad_filtered = []\n",
    "for rt in radiomic_tissue:\n",
    "    my_df = df_rad.filter(regex=f'{rt}$',axis=1)\n",
    "    for t in radiomic_type:\n",
    "        if t==\"shape\":\n",
    "            idx = list(range(18,32))\n",
    "            my_df_t = my_df.iloc[:,idx]\n",
    "        elif t==\"texture\":\n",
    "            idx = list(range(0,18))+list(range(32,101))\n",
    "            my_df_t = my_df.iloc[:,idx]\n",
    "        rad_filtered.append(my_df_t)"
   ]
  },
  {
   "cell_type": "code",
   "execution_count": null,
   "id": "4fee0f41-5b4f-4078-9103-aade273cd10d",
   "metadata": {},
   "outputs": [],
   "source": [
    "df_rad_filter = pd.concat(rad_filtered, axis=1)"
   ]
  },
  {
   "cell_type": "code",
   "execution_count": null,
   "id": "aeabf575-db38-491f-bbe1-84d9eed05051",
   "metadata": {},
   "outputs": [],
   "source": [
    "df_rad_train = df_rad_filter.query('RID in @train_ids')\n",
    "df_rad_valid = df_rad_filter.query('RID in @valid_ids')\n",
    "df_rad_test  = df_rad_filter.query('RID in @test_ids')"
   ]
  },
  {
   "cell_type": "markdown",
   "id": "f7ae33f9-4166-466e-884a-9e2408131bad",
   "metadata": {},
   "source": [
    "## Preprocessing"
   ]
  },
  {
   "cell_type": "code",
   "execution_count": null,
   "id": "e0fdc4c2-376d-48cc-b771-08b46f144526",
   "metadata": {},
   "outputs": [],
   "source": [
    "_ID_COLS    = ['RID']\n",
    "_INFO_COLS  = ['M']\n",
    "_DEMOG_COLS = ['gender','PTEDUCAT_norm','currage',\\\n",
    "               'PTRACCAT_Asian','PTRACCAT_Black','PTRACCAT_Hawaii','PTRACCAT_Indian','PTRACCAT_White',\\\n",
    "               'PTMARRY_Divorced','PTMARRY_Married','PTMARRY_Never married','PTMARRY_Widowed',\\\n",
    "               'PTETHCAT_Hisp','PTETHCAT_NoHisp']\n",
    "_COG_COLS   = ['CDRSB', 'ADAS13', 'MMSE', 'RAVLT_learning', 'FAQ']\n",
    "_BIO_COLS   = ['Ventricles_norm', 'Hippocampus_norm', 'WholeBrain_norm', 'Entorhinal_norm', 'Fusiform_norm', 'MidTemp_norm',\\\n",
    "               'FDG', 'AV45']\n",
    "_LABEL_COLS = ['onset_interval', 'offset_interval', 'currdx_bl', 'currdx']"
   ]
  },
  {
   "cell_type": "code",
   "execution_count": null,
   "id": "cf99ef1c-cacf-4200-818a-1fd2d2f8e179",
   "metadata": {},
   "outputs": [],
   "source": [
    "df[_DEMOG_COLS+_COG_COLS+_BIO_COLS].isnull().sum() * 100 / len(df)"
   ]
  },
  {
   "cell_type": "markdown",
   "id": "47ed8f61-3a1d-439a-adf4-ee186aa0b1fd",
   "metadata": {},
   "source": [
    "#### Imputation"
   ]
  },
  {
   "cell_type": "code",
   "execution_count": null,
   "id": "77cb8bdc-235f-45f3-9d29-095d45b32517",
   "metadata": {},
   "outputs": [],
   "source": [
    "def normalize(df, desc=None):\n",
    "    return ((df-desc['min'])/(desc['max']-desc['min']+1e-9)).values"
   ]
  },
  {
   "cell_type": "code",
   "execution_count": null,
   "id": "408c73ac-e3e9-4114-a267-bbd043b4c560",
   "metadata": {},
   "outputs": [],
   "source": [
    "def preprocessing(df, data_type=None, impute_mode='constant', impute_value=0):\n",
    "    df = df.copy()\n",
    "    demog_features = df[_DEMOG_COLS].copy()\n",
    "    cog_features   = df[_COG_COLS].copy()\n",
    "    bio_features   = df[_BIO_COLS].copy()\n",
    "    labels         = df[_LABEL_COLS[0:3]].copy()\n",
    "    # Save train features\n",
    "    if data_type=='train':\n",
    "        cog_features.to_csv(os.path.join(datapath,'MCI_cognitive_train.csv'), header=True, index=True, index_label=['RID'])\n",
    "        bio_features.to_csv(os.path.join(datapath,'MCI_biomarker_train.csv'), header=True, index=True, index_label=['RID'])\n",
    "        train_cog_features = cog_features.copy()\n",
    "        train_bio_features = bio_features.copy()\n",
    "    else:\n",
    "        train_cog_features = pd.read_csv(os.path.join(datapath,'MCI_cognitive_train.csv'), index_col=['RID'])\n",
    "        train_bio_features = pd.read_csv(os.path.join(datapath,'MCI_biomarker_train.csv'), index_col=['RID'])\n",
    "    # Imputation\n",
    "    if impute_mode=='iterative':\n",
    "        cog_imputer = IterativeImputer()\n",
    "        cog_imputer.fit(train_cog_features)\n",
    "        imp_cog_features = cog_imputer.transform(cog_features)\n",
    "        imp_cog_features = pd.DataFrame(imp_cog_features,\n",
    "                                        columns=cog_features.columns,\n",
    "                                        index=cog_features.index)\n",
    "        bio_imputer = IterativeImputer()\n",
    "        bio_imputer.fit(train_bio_features)\n",
    "        imp_bio_features = bio_imputer.transform(bio_features)\n",
    "        imp_bio_features = pd.DataFrame(imp_bio_features,\n",
    "                                        columns=bio_features.columns,\n",
    "                                        index=bio_features.index)\n",
    "    elif impute_mode=='constant':\n",
    "        cog_imputer = SimpleImputer(strategy=impute_mode,\n",
    "                                           fill_value=impute_value)\n",
    "        cog_imputer.fit(train_cog_features)\n",
    "        imp_cog_features = cog_imputer.transform(cog_features)\n",
    "        imp_cog_features = pd.DataFrame(imp_cog_features,\n",
    "                                        columns=cog_features.columns,\n",
    "                                        index=cog_features.index)\n",
    "        bio_imputer = SimpleImputer(strategy=impute_mode,\n",
    "                                           fill_value=impute_value)\n",
    "        bio_imputer.fit(train_bio_features)\n",
    "        imp_bio_features = bio_imputer.transform(bio_features)\n",
    "        imp_bio_features = pd.DataFrame(imp_bio_features,\n",
    "                                        columns=bio_features.columns,\n",
    "                                        index=bio_features.index)\n",
    "    \n",
    "    # One-hot label\n",
    "    labels['target'] = (labels[_LABEL_COLS[2]]==3).values.astype(np.float32)\n",
    "    # Merge all features\n",
    "    all_features = demog_features.copy()\n",
    "    all_features = all_features.join(imp_cog_features)\n",
    "    all_features = all_features.join(imp_bio_features)\n",
    "    all_features = all_features.join(labels[['target']])\n",
    "    \n",
    "    # Compute survival time:\n",
    "    labels['Event'] = np.array(~np.isinf(labels['offset_interval']), dtype=np.bool_)\n",
    "    ## Add 2-year (730 days) as delaying time to the most recent visit of censor patients\n",
    "    labels.loc[labels[_LABEL_COLS[1]].index[np.isinf(labels[_LABEL_COLS[1]])], _LABEL_COLS[1]] = 730 + labels.loc[labels[_LABEL_COLS[1]].index[np.isinf(labels[_LABEL_COLS[1]])], _LABEL_COLS[0]]\n",
    "    times = labels.pop(_LABEL_COLS[1])\n",
    "    events = labels.pop('Event')\n",
    "    \n",
    "    return all_features, times, events"
   ]
  },
  {
   "cell_type": "code",
   "execution_count": null,
   "id": "58a43089-3847-4fbf-a193-82db045dad5f",
   "metadata": {},
   "outputs": [],
   "source": [
    "tr_features, tr_times, tr_events = preprocessing(df_train, data_type='train', impute_mode='iterative', impute_value=0)\n",
    "vl_features, vl_times, vl_events = preprocessing(df_valid, data_type='valid', impute_mode='iterative', impute_value=0)\n",
    "ts_features, ts_times, ts_events = preprocessing(df_test, data_type='test', impute_mode='iterative', impute_value=0)"
   ]
  },
  {
   "cell_type": "markdown",
   "id": "6cbaad72-b26b-4d61-9186-12a9aef3a868",
   "metadata": {},
   "source": [
    "#### Normalize clinical data"
   ]
  },
  {
   "cell_type": "code",
   "execution_count": null,
   "id": "2331228d-5893-4320-8edf-426f72b5cb56",
   "metadata": {},
   "outputs": [],
   "source": [
    "tr_desc = tr_features.describe()\n",
    "tr_features.loc[:,_BIO_COLS] = normalize(tr_features[_BIO_COLS], tr_desc[_BIO_COLS].transpose())\n",
    "vl_features.loc[:,_BIO_COLS] = normalize(vl_features[_BIO_COLS], tr_desc[_BIO_COLS].transpose())\n",
    "ts_features.loc[:,_BIO_COLS] = normalize(ts_features[_BIO_COLS], tr_desc[_BIO_COLS].transpose())"
   ]
  },
  {
   "cell_type": "code",
   "execution_count": null,
   "id": "1edd34ba-f9bc-4db1-8df3-7c249ea780c4",
   "metadata": {},
   "outputs": [],
   "source": [
    "tr_rad_desc = df_rad_train.describe()\n",
    "tr_rad_features = normalize(df_rad_train, tr_rad_desc.transpose())\n",
    "vl_rad_features = normalize(df_rad_valid, tr_rad_desc.transpose())\n",
    "ts_rad_features = normalize(df_rad_test, tr_rad_desc.transpose())"
   ]
  },
  {
   "cell_type": "code",
   "execution_count": null,
   "id": "b3262b13-cd8f-49ef-bb1e-c510e72727c9",
   "metadata": {},
   "outputs": [],
   "source": [
    "_COG_MAX = [18, 85, 30, 14, 30]\n",
    "_COG_MIN = [0, 0, 0, -5, 0]\n",
    "for i, cog in enumerate(_COG_COLS):\n",
    "    tr_features[cog] = ((tr_features[cog] - _COG_MIN[i]) / (_COG_MAX[i] - _COG_MIN[i] + 1e-9)).values\n",
    "    vl_features[cog] = ((vl_features[cog] - _COG_MIN[i]) / (_COG_MAX[i] - _COG_MIN[i] + 1e-9)).values\n",
    "    ts_features[cog] = ((ts_features[cog] - _COG_MIN[i]) / (_COG_MAX[i] - _COG_MIN[i] + 1e-9)).values"
   ]
  },
  {
   "cell_type": "code",
   "execution_count": null,
   "id": "1dee7452-44fa-40b1-82a3-5b6a329f2b55",
   "metadata": {},
   "outputs": [],
   "source": [
    "min_age =  tr_features['currage'].min()\n",
    "max_age =  tr_features['currage'].max()\n",
    "tr_features['currage'] = ((tr_features['currage'] - min_age) / (max_age - min_age + 1e-9)).values\n",
    "vl_features['currage'] = ((vl_features['currage'] - min_age) / (max_age - min_age + 1e-9)).values\n",
    "ts_features['currage'] = ((ts_features['currage'] - min_age) / (max_age - min_age + 1e-9)).values"
   ]
  },
  {
   "cell_type": "markdown",
   "id": "88eb8f57-c2f9-40ec-bf06-7db1b7940f05",
   "metadata": {},
   "source": [
    "#### Organize data"
   ]
  },
  {
   "cell_type": "code",
   "execution_count": null,
   "id": "67eda6ab-e62e-4aae-b627-47db4d0c5859",
   "metadata": {},
   "outputs": [],
   "source": [
    "tr_target = tr_features[\"target\"]\n",
    "vl_target = vl_features[\"target\"]\n",
    "ts_target = ts_features[\"target\"]\n",
    "\n",
    "tr_features.drop([\"target\"], axis=1, inplace=True)\n",
    "vl_features.drop([\"target\"], axis=1, inplace=True)\n",
    "ts_features.drop([\"target\"], axis=1, inplace=True)"
   ]
  },
  {
   "cell_type": "code",
   "execution_count": null,
   "id": "73b98f70-e223-4c81-b54b-89edaf85890f",
   "metadata": {},
   "outputs": [],
   "source": [
    "tr_times  = tr_times.values[:, np.newaxis]\n",
    "tr_events = tr_events.values\n",
    "vl_times  = vl_times.values[:, np.newaxis]\n",
    "vl_events = vl_events.values\n",
    "ts_times  = ts_times.values[:, np.newaxis]\n",
    "ts_events = ts_events.values"
   ]
  },
  {
   "cell_type": "code",
   "execution_count": null,
   "id": "a9b955ed-e47a-455d-966d-cae20512c44e",
   "metadata": {},
   "outputs": [],
   "source": [
    "X_scaler    = StandardScaler().fit(tr_features)\n",
    "tr_features = X_scaler.transform(tr_features)\n",
    "vl_features = X_scaler.transform(vl_features)\n",
    "ts_features = X_scaler.transform(ts_features)\n",
    "\n",
    "X_rad_scaler    = StandardScaler().fit(tr_rad_features)\n",
    "tr_rad_features = X_rad_scaler.transform(tr_rad_features)\n",
    "vl_rad_features = X_rad_scaler.transform(vl_rad_features)\n",
    "ts_rad_features = X_rad_scaler.transform(ts_rad_features)\n",
    "\n",
    "Y_scaler = StandardScaler().fit(tr_times.reshape(-1, 1))\n",
    "tr_times = Y_scaler.transform(tr_times)\n",
    "vl_times = Y_scaler.transform(vl_times)\n",
    "ts_times = Y_scaler.transform(ts_times)\n",
    "\n",
    "tr_times = tr_times.flatten()\n",
    "vl_times = vl_times.flatten()\n",
    "ts_times = ts_times.flatten()"
   ]
  },
  {
   "cell_type": "code",
   "execution_count": null,
   "id": "726b2b8a-a71d-4c5f-82ee-5e4ec0e1ae7c",
   "metadata": {},
   "outputs": [],
   "source": [
    "sort_tr_idx = np.argsort(tr_times)[::-1]\n",
    "train_ids   = train_ids[sort_tr_idx]\n",
    "tr_features = tr_features[sort_tr_idx]\n",
    "tr_target   = tr_target.values[sort_tr_idx]\n",
    "tr_times    = tr_times[sort_tr_idx]\n",
    "tr_events   = tr_events[sort_tr_idx]\n",
    "tr_rad_features = tr_rad_features[sort_tr_idx]\n",
    "\n",
    "sort_vl_idx = np.argsort(vl_times)[::-1]\n",
    "valid_ids   = valid_ids[sort_vl_idx]\n",
    "vl_features = vl_features[sort_vl_idx]\n",
    "vl_target   = vl_target.values[sort_vl_idx]\n",
    "vl_times    = vl_times[sort_vl_idx]\n",
    "vl_events   = vl_events[sort_vl_idx]\n",
    "vl_rad_features = vl_rad_features[sort_vl_idx]\n",
    "\n",
    "sort_ts_idx = np.argsort(ts_times)[::-1]\n",
    "test_ids    = test_ids[sort_ts_idx]\n",
    "ts_features = ts_features[sort_ts_idx]\n",
    "ts_target   = ts_target.values[sort_ts_idx]\n",
    "ts_times    = ts_times[sort_ts_idx]\n",
    "ts_events   = ts_events[sort_ts_idx]\n",
    "ts_rad_features = ts_rad_features[sort_ts_idx]"
   ]
  },
  {
   "cell_type": "code",
   "execution_count": null,
   "id": "8eda82e0-12bc-4c67-8738-bedc3fcda602",
   "metadata": {},
   "outputs": [],
   "source": [
    "print(\"%.2f%% samples are right censored in training data.\" % (np.sum(~tr_events) * 100. / len(tr_events)))\n",
    "print(\"%.2f%% samples are right censored in validation data.\" % (np.sum(~vl_events) * 100. / len(vl_events)))\n",
    "print(\"%.2f%% samples are right censored in test data.\" % (np.sum(~ts_events) * 100. / len(ts_events)))"
   ]
  },
  {
   "cell_type": "code",
   "execution_count": null,
   "id": "541a4421-d190-48f4-a0f2-493437d0bf00",
   "metadata": {},
   "outputs": [],
   "source": [
    "cindex = concordance_index_censored(ts_events, ts_times, np.exp(-ts_times))\n",
    "print(f\"Concordance index on test data with actual risk scores: {cindex[0]:.3f}\")"
   ]
  },
  {
   "cell_type": "markdown",
   "id": "0471af01-9dba-45be-aa0a-1d1d9989d759",
   "metadata": {},
   "source": [
    "## Create model"
   ]
  },
  {
   "cell_type": "markdown",
   "id": "3155e209-69af-4794-b612-6cbe541b0041",
   "metadata": {},
   "source": [
    "#### Unimodel"
   ]
  },
  {
   "cell_type": "code",
   "execution_count": null,
   "id": "69cc2e86-3884-4581-a2df-43dc8cd08bbd",
   "metadata": {
    "tags": []
   },
   "outputs": [],
   "source": [
    "import models as M"
   ]
  },
  {
   "cell_type": "code",
   "execution_count": null,
   "id": "8d191e72-15eb-468c-9edb-f64e5f40726d",
   "metadata": {},
   "outputs": [],
   "source": [
    "model_name  = 'SPAN'\n",
    "input_name  = 'clinical' # 'clinical' or 'radiomic'\n",
    "uni_paras = dict(\n",
    "    num_hidden=tr_features.shape[-1]*4.7619,\n",
    "    num_outputs=1,\n",
    "    num_layers=1,\n",
    "    dropout=0.1416,\n",
    "    kernel_initializer=\"glorot_uniform\",\n",
    "    l2_regularizer = 3.1416*1e-2,\n",
    "    encode_model=model_name,  \n",
    "    hidden_activation='selu',\n",
    "    att_activation='softmax',\n",
    "    output_activation='linear',\n",
    "    input_name=f'{input_name}_features',\n",
    "    name=model_name,\n",
    ")\n",
    "\n",
    "uni_model = M.ADSurv(**uni_paras)"
   ]
  },
  {
   "cell_type": "markdown",
   "id": "9c46fc63-e9a0-4f30-8fbb-472160867024",
   "metadata": {},
   "source": [
    "#### Multimodal"
   ]
  },
  {
   "cell_type": "code",
   "execution_count": null,
   "id": "da83b92e-0506-43cb-abce-835c4a0a8655",
   "metadata": {},
   "outputs": [],
   "source": [
    "multi_name = 'SPAN'\n",
    "input_names  = ['clinical','radiomic']\n",
    "multi_paras = dict(\n",
    "    num_hidden=(tr_features.shape[-1]+tr_rad_features.shape[-1])*14.2857/2,\n",
    "    num_outputs=1,\n",
    "    dropout=0.21416,\n",
    "    kernel_initializer=\"glorot_uniform\",\n",
    "    l2_regularizer = 3.1416*1e-2,\n",
    "    encode_model=multi_name,  \n",
    "    hidden_activation='selu',\n",
    "    att_activation='softmax',\n",
    "    output_activation='linear',\n",
    "    input_names=[f'{n}_features' for n in input_names],\n",
    "    fusion_type='weight',\n",
    "    name=multi_name,\n",
    ")\n",
    "\n",
    "multi_model = M.MultiClinRad(**multi_paras)"
   ]
  },
  {
   "cell_type": "code",
   "execution_count": null,
   "id": "1a40558c-53ed-4ca1-8a52-43d05e8e55f4",
   "metadata": {},
   "outputs": [],
   "source": []
  }
 ],
 "metadata": {
  "kernelspec": {
   "display_name": "Python 3 (ipykernel)",
   "language": "python",
   "name": "python3"
  },
  "language_info": {
   "codemirror_mode": {
    "name": "ipython",
    "version": 3
   },
   "file_extension": ".py",
   "mimetype": "text/x-python",
   "name": "python",
   "nbconvert_exporter": "python",
   "pygments_lexer": "ipython3",
   "version": "3.8.12"
  }
 },
 "nbformat": 4,
 "nbformat_minor": 5
}
